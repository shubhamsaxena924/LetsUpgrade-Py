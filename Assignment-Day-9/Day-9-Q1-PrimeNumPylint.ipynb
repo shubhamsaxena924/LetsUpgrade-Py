{
 "cells": [
  {
   "cell_type": "code",
   "execution_count": 12,
   "metadata": {},
   "outputs": [
    {
     "name": "stdout",
     "output_type": "stream",
     "text": [
      "Writing day_9_q1_prime_num_pylint.py\n"
     ]
    }
   ],
   "source": [
    "%%writefile day_9_q1_prime_num_pylint.py\n",
    "\n",
    "'''\n",
    "Do unit testing on a python function for a checking prime number using Pylint\n",
    "'''\n",
    "\n",
    "\n",
    "def check_prime(num_check):\n",
    "    '''This function check whether the argument given in prime or not'''\n",
    "    for i in range(2, int(num_check**(1/2))+1):\n",
    "        if num_check % i == 0:\n",
    "            return False\n",
    "    return True\n",
    "\n",
    "\n",
    "print(check_prime(12))"
   ]
  },
  {
   "cell_type": "code",
   "execution_count": 13,
   "metadata": {},
   "outputs": [
    {
     "name": "stdout",
     "output_type": "stream",
     "text": [
      "\r\n",
      "------------------------------------\r\n",
      "Your code has been rated at 10.00/10\r\n",
      "\r\n"
     ]
    }
   ],
   "source": [
    "! pylint \"day_9_q1_prime_num_pylint.py\""
   ]
  }
 ],
 "metadata": {
  "kernelspec": {
   "display_name": "Python 3",
   "language": "python",
   "name": "python3"
  },
  "language_info": {
   "codemirror_mode": {
    "name": "ipython",
    "version": 3
   },
   "file_extension": ".py",
   "mimetype": "text/x-python",
   "name": "python",
   "nbconvert_exporter": "python",
   "pygments_lexer": "ipython3",
   "version": "3.6.11"
  }
 },
 "nbformat": 4,
 "nbformat_minor": 2
}
