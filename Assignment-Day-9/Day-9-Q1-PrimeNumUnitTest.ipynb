{
 "cells": [
  {
   "cell_type": "code",
   "execution_count": 8,
   "metadata": {},
   "outputs": [
    {
     "name": "stdout",
     "output_type": "stream",
     "text": [
      "Writing checkPrime.py\n"
     ]
    }
   ],
   "source": [
    "%%writefile checkPrime.py\n",
    "\n",
    "'''Check prime number'''\n",
    "def check_prime(num_check):\n",
    "    '''This function check whether the argument given in prime or not'''\n",
    "    for i in range(2, int(num_check**(1/2))+1):\n",
    "        if num_check % i == 0:\n",
    "            return False\n",
    "    return True"
   ]
  },
  {
   "cell_type": "code",
   "execution_count": 16,
   "metadata": {},
   "outputs": [
    {
     "data": {
      "text/plain": [
       "True"
      ]
     },
     "execution_count": 16,
     "metadata": {},
     "output_type": "execute_result"
    }
   ],
   "source": [
    "import checkPrime\n",
    "\n",
    "checkPrime.check_prime(5)"
   ]
  },
  {
   "cell_type": "code",
   "execution_count": 25,
   "metadata": {},
   "outputs": [
    {
     "name": "stdout",
     "output_type": "stream",
     "text": [
      "Overwriting prime_num_unittest.py\n"
     ]
    }
   ],
   "source": [
    "%%writefile prime_num_unittest.py\n",
    "\n",
    "'''\n",
    "Do unit testing on a python function for a checking prime number using Unit Test\n",
    "'''\n",
    "import unittest\n",
    "import checkPrime\n",
    "\n",
    "class prime(unittest.TestCase):   \n",
    "    def testPrime(self):\n",
    "        test_number=5\n",
    "        result = checkPrime.check_prime(test_number)\n",
    "        self.assertEqual(result,True)\n",
    "\n",
    "if __name__ == \"__main__\":\n",
    "    unittest.main()"
   ]
  },
  {
   "cell_type": "code",
   "execution_count": 26,
   "metadata": {},
   "outputs": [
    {
     "name": "stdout",
     "output_type": "stream",
     "text": [
      ".\r\n",
      "----------------------------------------------------------------------\r\n",
      "Ran 1 test in 0.000s\r\n",
      "\r\n",
      "OK\r\n"
     ]
    }
   ],
   "source": [
    "! python 'prime_num_unittest.py'"
   ]
  }
 ],
 "metadata": {
  "kernelspec": {
   "display_name": "Python 3",
   "language": "python",
   "name": "python3"
  },
  "language_info": {
   "codemirror_mode": {
    "name": "ipython",
    "version": 3
   },
   "file_extension": ".py",
   "mimetype": "text/x-python",
   "name": "python",
   "nbconvert_exporter": "python",
   "pygments_lexer": "ipython3",
   "version": "3.6.11"
  }
 },
 "nbformat": 4,
 "nbformat_minor": 2
}
